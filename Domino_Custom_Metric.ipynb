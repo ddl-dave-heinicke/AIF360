{
 "cells": [
  {
   "cell_type": "code",
   "execution_count": 3,
   "id": "ea2f67e7-cea6-440f-8b71-e76c5ac3129e",
   "metadata": {
    "tags": []
   },
   "outputs": [],
   "source": [
    "# Load all necessary packages for AIF360\n",
    "import sys\n",
    "import os\n",
    "sys.path.insert(1, \"../\")  \n",
    "\n",
    "import numpy as np\n",
    "np.random.seed(0)\n",
    "\n",
    "from aif360.datasets import GermanDataset\n",
    "from aif360.metrics import BinaryLabelDatasetMetric\n",
    "from aif360.algorithms.preprocessing import Reweighing\n",
    "\n",
    "from IPython.display import Markdown, display"
   ]
  },
  {
   "cell_type": "code",
   "execution_count": 15,
   "id": "28d51978-6a3c-4c3f-be9a-ef4bb498cf49",
   "metadata": {
    "tags": []
   },
   "outputs": [
    {
     "name": "stdout",
     "output_type": "stream",
     "text": [
      "Project name: dave_heinicke/AI-Fairness-360\n"
     ]
    }
   ],
   "source": [
    "import domino\n",
    "\n",
    "project = \"{}/{}\".format(os.environ['DOMINO_PROJECT_OWNER'],\n",
    "                         os.environ['DOMINO_PROJECT_NAME'])\n",
    "\n",
    "print(\"Project name: {}\".format(project))\n",
    "\n",
    "dmm_model_id = \"644ffac7a9872366aac7065d\"\n",
    "d = domino.Domino(project)\n",
    "metrics_client = d.custom_metrics_client()"
   ]
  },
  {
   "cell_type": "code",
   "execution_count": 16,
   "id": "1eb4c77f-f847-4484-ab1e-af8386bbc80d",
   "metadata": {
    "tags": []
   },
   "outputs": [],
   "source": [
    "dataset_orig = GermanDataset(\n",
    "    protected_attribute_names=['age'],           # this dataset also contains protected\n",
    "                                                 # attribute for \"sex\" which we do not\n",
    "                                                 # consider in this evaluation\n",
    "    privileged_classes=[lambda x: x >= 25],      # age >=25 is considered privileged\n",
    "    features_to_drop=['personal_status', 'sex'] # ignore sex-related attributes\n",
    ")\n",
    "\n",
    "dataset_orig_train, dataset_orig_test = dataset_orig.split([0.7], shuffle=True)\n",
    "\n",
    "privileged_groups = [{'age': 1}]\n",
    "unprivileged_groups = [{'age': 0}]"
   ]
  },
  {
   "cell_type": "code",
   "execution_count": 22,
   "id": "1b00a04a-5627-4fd5-ab94-7a093be3238a",
   "metadata": {
    "tags": []
   },
   "outputs": [
    {
     "data": {
      "text/markdown": [
       "#### Original training dataset"
      ],
      "text/plain": [
       "<IPython.core.display.Markdown object>"
      ]
     },
     "metadata": {},
     "output_type": "display_data"
    },
    {
     "name": "stdout",
     "output_type": "stream",
     "text": [
      "Difference in mean outcomes between unprivileged and privileged groups = -0.169905\n"
     ]
    }
   ],
   "source": [
    "metric_orig_train = BinaryLabelDatasetMetric(dataset_orig_train, \n",
    "                                             unprivileged_groups=unprivileged_groups,\n",
    "                                             privileged_groups=privileged_groups)\n",
    "display(Markdown(\"#### Original training dataset\"))\n",
    "print(\"Difference in mean outcomes between unprivileged and privileged groups = %f\" % metric_orig_train.mean_difference())\n",
    "\n",
    "original_mean_difference = abs(metric_orig_train.mean_difference())"
   ]
  },
  {
   "cell_type": "code",
   "execution_count": 23,
   "id": "af596b02-c687-459b-8953-991eef12a4e7",
   "metadata": {
    "tags": []
   },
   "outputs": [
    {
     "data": {
      "text/markdown": [
       "#### Transformed training dataset"
      ],
      "text/plain": [
       "<IPython.core.display.Markdown object>"
      ]
     },
     "metadata": {},
     "output_type": "display_data"
    },
    {
     "name": "stdout",
     "output_type": "stream",
     "text": [
      "Difference in mean outcomes between unprivileged and privileged groups = 0.000000\n"
     ]
    }
   ],
   "source": [
    "RW = Reweighing(unprivileged_groups=unprivileged_groups,\n",
    "                privileged_groups=privileged_groups)\n",
    "dataset_transf_train = RW.fit_transform(dataset_orig_train)\n",
    "\n",
    "metric_transf_train = BinaryLabelDatasetMetric(dataset_transf_train, \n",
    "                                               unprivileged_groups=unprivileged_groups,\n",
    "                                               privileged_groups=privileged_groups)\n",
    "display(Markdown(\"#### Transformed training dataset\"))\n",
    "print(\"Difference in mean outcomes between unprivileged and privileged groups = %f\" % metric_transf_train.mean_difference())\n",
    "\n",
    "corrected_mean_difference = abs(metric_orig_train.mean_difference())"
   ]
  },
  {
   "cell_type": "markdown",
   "id": "df3807d2-e566-4abe-acc0-2fc689fcfe4d",
   "metadata": {
    "tags": []
   },
   "source": [
    "### Log as a Domino Model Monitoring Custom metric"
   ]
  },
  {
   "cell_type": "code",
   "execution_count": 29,
   "id": "9ebf874a-7156-460c-bde4-244ec9f8e420",
   "metadata": {
    "tags": []
   },
   "outputs": [],
   "source": [
    "\n",
    "# metrics_client.log_metric(dmm_model_id, \"Age_Mean_Difference\", age_mean_difference, \"2023-5-08T00:00:00Z\", { \"example_tag1\" : \"value1\", \"example_tag2\" : \"value2\" })\n",
    "\n",
    "metrics_client.log_metrics([\n",
    "{ \"modelMonitoringId\" : dmm_model_id, \"metric\" : \"Age_Mean_Difference\", \"value\" : corrected_mean_difference,\n",
    "\"timestamp\" : \"2023-05-08T00:00:00Z\",\n",
    "\"tags\" : { \"example_tag1\" : \"value1\", \"example_tag2\" : \"value2\" }\n",
    "},\n",
    "{ \"modelMonitoringId\" : dmm_model_id, \"metric\" : \"Age_Mean_Difference\", \"value\" : original_mean_difference,\n",
    "\"timestamp\" : \"2023-05-08T00:00:10Z\" }\n",
    "])"
   ]
  },
  {
   "cell_type": "markdown",
   "id": "c4d5e465-7d24-46f6-bd8b-5909ae2a8634",
   "metadata": {},
   "source": [
    "Set the custom trigger alert for model monitoring"
   ]
  },
  {
   "cell_type": "code",
   "execution_count": 36,
   "id": "20a95b1a-1fa9-41b7-af23-039839c0b194",
   "metadata": {
    "tags": []
   },
   "outputs": [
    {
     "ename": "ApiTypeError",
     "evalue": "Invalid type. Required value type is Decimal and passed type was NoneClass at ['args[0]']['upperLimit']",
     "output_type": "error",
     "traceback": [
      "\u001b[0;31m---------------------------------------------------------------------------\u001b[0m",
      "\u001b[0;31mApiTypeError\u001b[0m                              Traceback (most recent call last)",
      "Cell \u001b[0;32mIn[36], line 1\u001b[0m\n\u001b[0;32m----> 1\u001b[0m \u001b[43mmetrics_client\u001b[49m\u001b[38;5;241;43m.\u001b[39;49m\u001b[43mtrigger_alert\u001b[49m\u001b[43m(\u001b[49m\u001b[43mdmm_model_id\u001b[49m\u001b[43m,\u001b[49m\u001b[43m \u001b[49m\u001b[38;5;124;43m\"\u001b[39;49m\u001b[38;5;124;43mAge_Mean_Difference\u001b[39;49m\u001b[38;5;124;43m\"\u001b[39;49m\u001b[43m,\u001b[49m\u001b[43m \u001b[49m\u001b[38;5;241;43m3.14\u001b[39;49m\u001b[43m,\u001b[49m\n\u001b[1;32m      2\u001b[0m \u001b[43m                            \u001b[49m\u001b[43mcondition\u001b[49m\u001b[43m \u001b[49m\u001b[38;5;241;43m=\u001b[39;49m\u001b[43m \u001b[49m\u001b[43mmetrics_client\u001b[49m\u001b[38;5;241;43m.\u001b[39;49m\u001b[43mGREATER_THAN\u001b[49m\u001b[43m,\u001b[49m\n\u001b[1;32m      3\u001b[0m \u001b[43m                            \u001b[49m\u001b[43mlower_limit\u001b[49m\u001b[38;5;241;43m=\u001b[39;49m\u001b[38;5;241;43m0.1\u001b[39;49m\u001b[43m,\u001b[49m\n\u001b[1;32m      4\u001b[0m \u001b[43m                            \u001b[49m\u001b[43mdescription\u001b[49m\u001b[43m \u001b[49m\u001b[38;5;241;43m=\u001b[39;49m\u001b[43m \u001b[49m\u001b[38;5;124;43m\"\u001b[39;49m\u001b[38;5;124;43mAge Difference Factor Greater than 0.1 detected\u001b[39;49m\u001b[38;5;124;43m\"\u001b[39;49m\u001b[43m \u001b[49m\u001b[43m)\u001b[49m\n",
      "File \u001b[0;32m/opt/conda/lib/python3.9/site-packages/domino/_custom_metrics.py:101\u001b[0m, in \u001b[0;36m_CustomMetricsClientGen.trigger_alert\u001b[0;34m(self, model_monitoring_id, metric, value, condition, lower_limit, upper_limit, description)\u001b[0m\n\u001b[1;32m     87\u001b[0m \u001b[38;5;28;01mdef\u001b[39;00m \u001b[38;5;21mtrigger_alert\u001b[39m(\n\u001b[1;32m     88\u001b[0m     \u001b[38;5;28mself\u001b[39m,\n\u001b[1;32m     89\u001b[0m     model_monitoring_id: \u001b[38;5;28mstr\u001b[39m,\n\u001b[0;32m   (...)\u001b[0m\n\u001b[1;32m     95\u001b[0m     description: \u001b[38;5;28mstr\u001b[39m \u001b[38;5;241m=\u001b[39m \u001b[38;5;28;01mNone\u001b[39;00m,\n\u001b[1;32m     96\u001b[0m ) \u001b[38;5;241m-\u001b[39m\u001b[38;5;241m>\u001b[39m \u001b[38;5;28;01mNone\u001b[39;00m:\n\u001b[1;32m     97\u001b[0m     url \u001b[38;5;241m=\u001b[39m \u001b[38;5;28mself\u001b[39m\u001b[38;5;241m.\u001b[39m_routes\u001b[38;5;241m.\u001b[39mmetric_alerts()\n\u001b[1;32m     98\u001b[0m     target_range: Optional[TargetRangeV1] \u001b[38;5;241m=\u001b[39m (\n\u001b[1;32m     99\u001b[0m         \u001b[38;5;28;01mNone\u001b[39;00m\n\u001b[1;32m    100\u001b[0m         \u001b[38;5;28;01mif\u001b[39;00m condition \u001b[38;5;129;01mis\u001b[39;00m \u001b[38;5;28;01mNone\u001b[39;00m\n\u001b[0;32m--> 101\u001b[0m         \u001b[38;5;28;01melse\u001b[39;00m \u001b[43mTargetRangeV1\u001b[49m\u001b[43m(\u001b[49m\n\u001b[1;32m    102\u001b[0m \u001b[43m            \u001b[49m\u001b[43mcondition\u001b[49m\u001b[38;5;241;43m=\u001b[39;49m\u001b[43mcondition\u001b[49m\u001b[43m,\u001b[49m\u001b[43m \u001b[49m\u001b[43mlowerLimit\u001b[49m\u001b[38;5;241;43m=\u001b[39;49m\u001b[43mlower_limit\u001b[49m\u001b[43m,\u001b[49m\u001b[43m \u001b[49m\u001b[43mupperLimit\u001b[49m\u001b[38;5;241;43m=\u001b[39;49m\u001b[43mupper_limit\u001b[49m\n\u001b[1;32m    103\u001b[0m \u001b[43m        \u001b[49m\u001b[43m)\u001b[49m\n\u001b[1;32m    104\u001b[0m     )\n\u001b[1;32m    105\u001b[0m     req \u001b[38;5;241m=\u001b[39m MetricAlertRequestV1(\n\u001b[1;32m    106\u001b[0m         modelMonitoringId\u001b[38;5;241m=\u001b[39mmodel_monitoring_id,\n\u001b[1;32m    107\u001b[0m         metric\u001b[38;5;241m=\u001b[39mmetric,\n\u001b[0;32m   (...)\u001b[0m\n\u001b[1;32m    110\u001b[0m         description\u001b[38;5;241m=\u001b[39mdescription,\n\u001b[1;32m    111\u001b[0m     )\n\u001b[1;32m    112\u001b[0m     ser_body: SerializedRequestBody \u001b[38;5;241m=\u001b[39m (\n\u001b[1;32m    113\u001b[0m         request_body_metric_alert_request_v1\u001b[38;5;241m.\u001b[39mserialize(req, \u001b[38;5;124m\"\u001b[39m\u001b[38;5;124mapplication/json\u001b[39m\u001b[38;5;124m\"\u001b[39m)\n\u001b[1;32m    114\u001b[0m     )\n",
      "File \u001b[0;32m/opt/conda/lib/python3.9/site-packages/domino/_impl/custommetrics/model/target_range_v1.py:130\u001b[0m, in \u001b[0;36mTargetRangeV1.__new__\u001b[0;34m(cls, condition, lowerLimit, upperLimit, _configuration, *args, **kwargs)\u001b[0m\n\u001b[1;32m    121\u001b[0m \u001b[38;5;28;01mdef\u001b[39;00m \u001b[38;5;21m__new__\u001b[39m(\n\u001b[1;32m    122\u001b[0m     \u001b[38;5;28mcls\u001b[39m,\n\u001b[1;32m    123\u001b[0m     \u001b[38;5;241m*\u001b[39margs: typing\u001b[38;5;241m.\u001b[39mUnion[\u001b[38;5;28mdict\u001b[39m, frozendict\u001b[38;5;241m.\u001b[39mfrozendict, ],\n\u001b[0;32m   (...)\u001b[0m\n\u001b[1;32m    128\u001b[0m     \u001b[38;5;241m*\u001b[39m\u001b[38;5;241m*\u001b[39mkwargs: typing\u001b[38;5;241m.\u001b[39mUnion[schemas\u001b[38;5;241m.\u001b[39mAnyTypeSchema, \u001b[38;5;28mdict\u001b[39m, frozendict\u001b[38;5;241m.\u001b[39mfrozendict, \u001b[38;5;28mstr\u001b[39m, date, datetime, uuid\u001b[38;5;241m.\u001b[39mUUID, \u001b[38;5;28mint\u001b[39m, \u001b[38;5;28mfloat\u001b[39m, decimal\u001b[38;5;241m.\u001b[39mDecimal, \u001b[38;5;28;01mNone\u001b[39;00m, \u001b[38;5;28mlist\u001b[39m, \u001b[38;5;28mtuple\u001b[39m, \u001b[38;5;28mbytes\u001b[39m],\n\u001b[1;32m    129\u001b[0m ) \u001b[38;5;241m-\u001b[39m\u001b[38;5;241m>\u001b[39m \u001b[38;5;124m'\u001b[39m\u001b[38;5;124mTargetRangeV1\u001b[39m\u001b[38;5;124m'\u001b[39m:\n\u001b[0;32m--> 130\u001b[0m     \u001b[38;5;28;01mreturn\u001b[39;00m \u001b[38;5;28;43msuper\u001b[39;49m\u001b[43m(\u001b[49m\u001b[43m)\u001b[49m\u001b[38;5;241;43m.\u001b[39;49m\u001b[38;5;21;43m__new__\u001b[39;49m\u001b[43m(\u001b[49m\n\u001b[1;32m    131\u001b[0m \u001b[43m        \u001b[49m\u001b[38;5;28;43mcls\u001b[39;49m\u001b[43m,\u001b[49m\n\u001b[1;32m    132\u001b[0m \u001b[43m        \u001b[49m\u001b[38;5;241;43m*\u001b[39;49m\u001b[43margs\u001b[49m\u001b[43m,\u001b[49m\n\u001b[1;32m    133\u001b[0m \u001b[43m        \u001b[49m\u001b[43mcondition\u001b[49m\u001b[38;5;241;43m=\u001b[39;49m\u001b[43mcondition\u001b[49m\u001b[43m,\u001b[49m\n\u001b[1;32m    134\u001b[0m \u001b[43m        \u001b[49m\u001b[43mlowerLimit\u001b[49m\u001b[38;5;241;43m=\u001b[39;49m\u001b[43mlowerLimit\u001b[49m\u001b[43m,\u001b[49m\n\u001b[1;32m    135\u001b[0m \u001b[43m        \u001b[49m\u001b[43mupperLimit\u001b[49m\u001b[38;5;241;43m=\u001b[39;49m\u001b[43mupperLimit\u001b[49m\u001b[43m,\u001b[49m\n\u001b[1;32m    136\u001b[0m \u001b[43m        \u001b[49m\u001b[43m_configuration\u001b[49m\u001b[38;5;241;43m=\u001b[39;49m\u001b[43m_configuration\u001b[49m\u001b[43m,\u001b[49m\n\u001b[1;32m    137\u001b[0m \u001b[43m        \u001b[49m\u001b[38;5;241;43m*\u001b[39;49m\u001b[38;5;241;43m*\u001b[39;49m\u001b[43mkwargs\u001b[49m\u001b[43m,\u001b[49m\n\u001b[1;32m    138\u001b[0m \u001b[43m    \u001b[49m\u001b[43m)\u001b[49m\n",
      "File \u001b[0;32m/opt/conda/lib/python3.9/site-packages/domino/_impl/custommetrics/schemas.py:2439\u001b[0m, in \u001b[0;36mDictSchema.__new__\u001b[0;34m(cls, *args, **kwargs)\u001b[0m\n\u001b[1;32m   2438\u001b[0m \u001b[38;5;28;01mdef\u001b[39;00m \u001b[38;5;21m__new__\u001b[39m(\u001b[38;5;28mcls\u001b[39m, \u001b[38;5;241m*\u001b[39margs: typing\u001b[38;5;241m.\u001b[39mUnion[\u001b[38;5;28mdict\u001b[39m, frozendict\u001b[38;5;241m.\u001b[39mfrozendict], \u001b[38;5;241m*\u001b[39m\u001b[38;5;241m*\u001b[39mkwargs: typing\u001b[38;5;241m.\u001b[39mUnion[\u001b[38;5;28mdict\u001b[39m, frozendict\u001b[38;5;241m.\u001b[39mfrozendict, \u001b[38;5;28mlist\u001b[39m, \u001b[38;5;28mtuple\u001b[39m, decimal\u001b[38;5;241m.\u001b[39mDecimal, \u001b[38;5;28mfloat\u001b[39m, \u001b[38;5;28mint\u001b[39m, \u001b[38;5;28mstr\u001b[39m, date, datetime, \u001b[38;5;28mbool\u001b[39m, \u001b[38;5;28;01mNone\u001b[39;00m, \u001b[38;5;28mbytes\u001b[39m, Schema, Unset, ValidationMetadata]):\n\u001b[0;32m-> 2439\u001b[0m     \u001b[38;5;28;01mreturn\u001b[39;00m \u001b[38;5;28;43msuper\u001b[39;49m\u001b[43m(\u001b[49m\u001b[43m)\u001b[49m\u001b[38;5;241;43m.\u001b[39;49m\u001b[38;5;21;43m__new__\u001b[39;49m\u001b[43m(\u001b[49m\u001b[38;5;28;43mcls\u001b[39;49m\u001b[43m,\u001b[49m\u001b[43m \u001b[49m\u001b[38;5;241;43m*\u001b[39;49m\u001b[43margs\u001b[49m\u001b[43m,\u001b[49m\u001b[43m \u001b[49m\u001b[38;5;241;43m*\u001b[39;49m\u001b[38;5;241;43m*\u001b[39;49m\u001b[43mkwargs\u001b[49m\u001b[43m)\u001b[49m\n",
      "File \u001b[0;32m/opt/conda/lib/python3.9/site-packages/domino/_impl/custommetrics/schemas.py:530\u001b[0m, in \u001b[0;36mSchema.__new__\u001b[0;34m(cls, _configuration, *args, **kwargs)\u001b[0m\n\u001b[1;32m    526\u001b[0m __arg \u001b[38;5;241m=\u001b[39m cast_to_allowed_types(\n\u001b[1;32m    527\u001b[0m     __arg, __from_server, __validated_path_to_schemas)\n\u001b[1;32m    528\u001b[0m __validation_metadata \u001b[38;5;241m=\u001b[39m ValidationMetadata(\n\u001b[1;32m    529\u001b[0m     configuration\u001b[38;5;241m=\u001b[39m_configuration, from_server\u001b[38;5;241m=\u001b[39m__from_server, validated_path_to_schemas\u001b[38;5;241m=\u001b[39m__validated_path_to_schemas)\n\u001b[0;32m--> 530\u001b[0m __path_to_schemas \u001b[38;5;241m=\u001b[39m \u001b[38;5;28;43mcls\u001b[39;49m\u001b[38;5;241;43m.\u001b[39;49m\u001b[43m__get_new_cls\u001b[49m\u001b[43m(\u001b[49m\u001b[43m__arg\u001b[49m\u001b[43m,\u001b[49m\u001b[43m \u001b[49m\u001b[43m__validation_metadata\u001b[49m\u001b[43m)\u001b[49m\n\u001b[1;32m    531\u001b[0m __new_cls \u001b[38;5;241m=\u001b[39m __path_to_schemas[__validation_metadata\u001b[38;5;241m.\u001b[39mpath_to_item]\n\u001b[1;32m    532\u001b[0m \u001b[38;5;28;01mreturn\u001b[39;00m __new_cls\u001b[38;5;241m.\u001b[39m_get_new_instance_without_conversion_oapg(\n\u001b[1;32m    533\u001b[0m     __arg,\n\u001b[1;32m    534\u001b[0m     __validation_metadata\u001b[38;5;241m.\u001b[39mpath_to_item,\n\u001b[1;32m    535\u001b[0m     __path_to_schemas\n\u001b[1;32m    536\u001b[0m )\n",
      "File \u001b[0;32m/opt/conda/lib/python3.9/site-packages/domino/_impl/custommetrics/schemas.py:398\u001b[0m, in \u001b[0;36mSchema.__get_new_cls\u001b[0;34m(cls, arg, validation_metadata)\u001b[0m\n\u001b[1;32m    396\u001b[0m     update(_path_to_schemas, validation_metadata\u001b[38;5;241m.\u001b[39mvalidated_path_to_schemas)\n\u001b[1;32m    397\u001b[0m \u001b[38;5;28;01mif\u001b[39;00m \u001b[38;5;129;01mnot\u001b[39;00m validation_metadata\u001b[38;5;241m.\u001b[39mvalidation_ran_earlier(\u001b[38;5;28mcls\u001b[39m):\n\u001b[0;32m--> 398\u001b[0m     other_path_to_schemas \u001b[38;5;241m=\u001b[39m \u001b[38;5;28;43mcls\u001b[39;49m\u001b[38;5;241;43m.\u001b[39;49m\u001b[43m_validate_oapg\u001b[49m\u001b[43m(\u001b[49m\u001b[43marg\u001b[49m\u001b[43m,\u001b[49m\u001b[43m \u001b[49m\u001b[43mvalidation_metadata\u001b[49m\u001b[38;5;241;43m=\u001b[39;49m\u001b[43mvalidation_metadata\u001b[49m\u001b[43m)\u001b[49m\n\u001b[1;32m    399\u001b[0m     update(_path_to_schemas, other_path_to_schemas)\n\u001b[1;32m    400\u001b[0m \u001b[38;5;66;03m# loop through it make a new class for each entry\u001b[39;00m\n\u001b[1;32m    401\u001b[0m \u001b[38;5;66;03m# do not modify the returned result because it is cached and we would be modifying the cached value\u001b[39;00m\n",
      "File \u001b[0;32m/opt/conda/lib/python3.9/site-packages/domino/_impl/custommetrics/schemas.py:1658\u001b[0m, in \u001b[0;36mDictBase._validate_oapg\u001b[0;34m(cls, arg, validation_metadata)\u001b[0m\n\u001b[1;32m   1656\u001b[0m     \u001b[38;5;28;01mreturn\u001b[39;00m _path_to_schemas\n\u001b[1;32m   1657\u001b[0m \u001b[38;5;28mcls\u001b[39m\u001b[38;5;241m.\u001b[39m__validate_arg_presence(arg)\n\u001b[0;32m-> 1658\u001b[0m other_path_to_schemas \u001b[38;5;241m=\u001b[39m \u001b[38;5;28;43mcls\u001b[39;49m\u001b[38;5;241;43m.\u001b[39;49m\u001b[43m__validate_args\u001b[49m\u001b[43m(\u001b[49m\u001b[43marg\u001b[49m\u001b[43m,\u001b[49m\u001b[43m \u001b[49m\u001b[43mvalidation_metadata\u001b[49m\u001b[38;5;241;43m=\u001b[39;49m\u001b[43mvalidation_metadata\u001b[49m\u001b[43m)\u001b[49m\n\u001b[1;32m   1659\u001b[0m update(_path_to_schemas, other_path_to_schemas)\n\u001b[1;32m   1660\u001b[0m \u001b[38;5;28;01mtry\u001b[39;00m:\n",
      "File \u001b[0;32m/opt/conda/lib/python3.9/site-packages/domino/_impl/custommetrics/schemas.py:1599\u001b[0m, in \u001b[0;36mDictBase.__validate_args\u001b[0;34m(cls, arg, validation_metadata)\u001b[0m\n\u001b[1;32m   1597\u001b[0m     \u001b[38;5;28;01mif\u001b[39;00m arg_validation_metadata\u001b[38;5;241m.\u001b[39mvalidation_ran_earlier(schema):\n\u001b[1;32m   1598\u001b[0m         \u001b[38;5;28;01mcontinue\u001b[39;00m\n\u001b[0;32m-> 1599\u001b[0m     other_path_to_schemas \u001b[38;5;241m=\u001b[39m \u001b[43mschema\u001b[49m\u001b[38;5;241;43m.\u001b[39;49m\u001b[43m_validate_oapg\u001b[49m\u001b[43m(\u001b[49m\u001b[43mvalue\u001b[49m\u001b[43m,\u001b[49m\u001b[43m \u001b[49m\u001b[43mvalidation_metadata\u001b[49m\u001b[38;5;241;43m=\u001b[39;49m\u001b[43marg_validation_metadata\u001b[49m\u001b[43m)\u001b[49m\n\u001b[1;32m   1600\u001b[0m     update(path_to_schemas, other_path_to_schemas)\n\u001b[1;32m   1601\u001b[0m \u001b[38;5;28;01mreturn\u001b[39;00m path_to_schemas\n",
      "File \u001b[0;32m/opt/conda/lib/python3.9/site-packages/domino/_impl/custommetrics/schemas.py:1301\u001b[0m, in \u001b[0;36mNumberBase._validate_oapg\u001b[0;34m(cls, arg, validation_metadata)\u001b[0m\n\u001b[1;32m   1299\u001b[0m \u001b[38;5;28;01mif\u001b[39;00m \u001b[38;5;28misinstance\u001b[39m(arg, decimal\u001b[38;5;241m.\u001b[39mDecimal):\n\u001b[1;32m   1300\u001b[0m     \u001b[38;5;28mcls\u001b[39m\u001b[38;5;241m.\u001b[39m__check_numeric_validations(arg, validation_metadata)\n\u001b[0;32m-> 1301\u001b[0m \u001b[38;5;28;01mreturn\u001b[39;00m \u001b[38;5;28;43msuper\u001b[39;49m\u001b[43m(\u001b[49m\u001b[43m)\u001b[49m\u001b[38;5;241;43m.\u001b[39;49m\u001b[43m_validate_oapg\u001b[49m\u001b[43m(\u001b[49m\u001b[43marg\u001b[49m\u001b[43m,\u001b[49m\u001b[43m \u001b[49m\u001b[43mvalidation_metadata\u001b[49m\u001b[38;5;241;43m=\u001b[39;49m\u001b[43mvalidation_metadata\u001b[49m\u001b[43m)\u001b[49m\n",
      "File \u001b[0;32m/opt/conda/lib/python3.9/site-packages/domino/_impl/custommetrics/schemas.py:337\u001b[0m, in \u001b[0;36mSchema._validate_oapg\u001b[0;34m(cls, arg, validation_metadata)\u001b[0m\n\u001b[1;32m    335\u001b[0m base_class \u001b[38;5;241m=\u001b[39m \u001b[38;5;28mtype\u001b[39m(arg)\n\u001b[1;32m    336\u001b[0m \u001b[38;5;28;01mif\u001b[39;00m base_class \u001b[38;5;129;01mnot\u001b[39;00m \u001b[38;5;129;01min\u001b[39;00m \u001b[38;5;28mcls\u001b[39m\u001b[38;5;241m.\u001b[39m_types:\n\u001b[0;32m--> 337\u001b[0m     \u001b[38;5;28;01mraise\u001b[39;00m \u001b[38;5;28mcls\u001b[39m\u001b[38;5;241m.\u001b[39m__get_type_error(\n\u001b[1;32m    338\u001b[0m         arg,\n\u001b[1;32m    339\u001b[0m         validation_metadata\u001b[38;5;241m.\u001b[39mpath_to_item,\n\u001b[1;32m    340\u001b[0m         \u001b[38;5;28mcls\u001b[39m\u001b[38;5;241m.\u001b[39m_types,\n\u001b[1;32m    341\u001b[0m         key_type\u001b[38;5;241m=\u001b[39m\u001b[38;5;28;01mFalse\u001b[39;00m,\n\u001b[1;32m    342\u001b[0m     )\n\u001b[1;32m    344\u001b[0m path_to_schemas \u001b[38;5;241m=\u001b[39m {validation_metadata\u001b[38;5;241m.\u001b[39mpath_to_item: \u001b[38;5;28mset\u001b[39m()}\n\u001b[1;32m    345\u001b[0m path_to_schemas[validation_metadata\u001b[38;5;241m.\u001b[39mpath_to_item]\u001b[38;5;241m.\u001b[39madd(\u001b[38;5;28mcls\u001b[39m)\n",
      "\u001b[0;31mApiTypeError\u001b[0m: Invalid type. Required value type is Decimal and passed type was NoneClass at ['args[0]']['upperLimit']"
     ]
    }
   ],
   "source": [
    "metrics_client.trigger_alert(dmm_model_id, \"Age_Mean_Difference\", 3.14,\n",
    "                            condition = metrics_client.GREATER_THAN,\n",
    "                            lower_limit=0.1,\n",
    "                            upper_limit=Mo\n",
    "                            description = \"Age Difference Factor Greater than 0.1 detected\" )"
   ]
  },
  {
   "cell_type": "code",
   "execution_count": 32,
   "id": "7ef59b42-41fd-4dab-9348-d8b18e2f6dc3",
   "metadata": {
    "tags": []
   },
   "outputs": [
    {
     "name": "stdout",
     "output_type": "stream",
     "text": [
      "{'metadata': {'requestId': '790befb1-fd51-494c-8ea3-2fafc2f09057', 'notices': ()}, 'metricValues': [{'timestamp': '2023-05-08T00:00:00Z', 'value': -0.1699054740619017, 'tags': {'example_tag1': 'value1', 'example_tag2': 'value2'}}, {'timestamp': '2023-05-08T00:00:10Z', 'value': -0.1699054740619017, 'tags': {}}]}\n"
     ]
    }
   ],
   "source": [
    "res = metrics_client.read_metrics(dmm_model_id, \"Age_Mean_Difference\",\n",
    "\"2023-05-08T00:00:00Z\", \"2023-05-08T00:00:10Z\")\n",
    "\n",
    "print(res)"
   ]
  },
  {
   "cell_type": "code",
   "execution_count": null,
   "id": "bb02a543-50ff-463c-94a6-dc9641ea28df",
   "metadata": {},
   "outputs": [],
   "source": []
  }
 ],
 "metadata": {
  "kernelspec": {
   "display_name": "Python 3 (ipykernel)",
   "language": "python",
   "name": "python3"
  },
  "language_info": {
   "codemirror_mode": {
    "name": "ipython",
    "version": 3
   },
   "file_extension": ".py",
   "mimetype": "text/x-python",
   "name": "python",
   "nbconvert_exporter": "python",
   "pygments_lexer": "ipython3",
   "version": "3.9.16"
  }
 },
 "nbformat": 4,
 "nbformat_minor": 5
}
