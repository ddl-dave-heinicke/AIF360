{
 "cells": [
  {
   "cell_type": "markdown",
   "id": "6acd9de6-1082-41d8-b107-c32ca3142267",
   "metadata": {},
   "source": [
    "## Custom Metrics with Domino Data Lab\n",
    "\n",
    "Example for generating alerts for bias in model predictions using Domino Model Monitoring & IBM's AI Fairness 360 Package\n",
    "https://aif360.mybluemix.net/\n",
    "\n",
    "(1) Use customizable Domino Environemnts to build an environment for AIF360\n",
    "\n",
    "(2) Connect to Domino's Model Monitoring Registry\n",
    "\n",
    "(3) Use AIF360 to apply the bias test of your choice, and set your alert thresholds with Domino Monitoring\n",
    "\n",
    "(4) Integrate your alert with Domino Mondel Monitoring, alongside drift & model quality monitoring.\n"
   ]
  },
  {
   "cell_type": "code",
   "execution_count": 1,
   "id": "ea2f67e7-cea6-440f-8b71-e76c5ac3129e",
   "metadata": {
    "collapsed": true,
    "jupyter": {
     "outputs_hidden": true
    },
    "tags": []
   },
   "outputs": [
    {
     "name": "stderr",
     "output_type": "stream",
     "text": [
      "2023-05-24 23:53:45.371426: I tensorflow/core/platform/cpu_feature_guard.cc:182] This TensorFlow binary is optimized to use available CPU instructions in performance-critical operations.\n",
      "To enable the following instructions: AVX2 AVX512F FMA, in other operations, rebuild TensorFlow with the appropriate compiler flags.\n",
      "2023-05-24 23:53:46.792826: W tensorflow/compiler/tf2tensorrt/utils/py_utils.cc:38] TF-TRT Warning: Could not find TensorRT\n",
      "We've integrated functorch into PyTorch. As the final step of the integration, functorch.vmap is deprecated as of PyTorch 2.0 and will be deleted in a future version of PyTorch >= 2.3. Please use torch.vmap instead; see the PyTorch 2.0 release notes and/or the torch.func migration guide for more details https://pytorch.org/docs/master/func.migrating.html\n"
     ]
    }
   ],
   "source": [
    "# Import necessary packages\n",
    "\n",
    "import sys\n",
    "import os\n",
    "sys.path.insert(1, \"../\")  \n",
    "\n",
    "import numpy as np\n",
    "import pandas as pd\n",
    "np.random.seed(0)\n",
    "\n",
    "from aif360.datasets import GermanDataset\n",
    "from aif360.metrics import BinaryLabelDatasetMetric\n",
    "from aif360.algorithms.preprocessing import Reweighing\n",
    "\n",
    "from IPython.display import Markdown, display"
   ]
  },
  {
   "cell_type": "markdown",
   "id": "ddbf3f64-f5b9-45df-9d18-6763b5f4a255",
   "metadata": {},
   "source": [
    "### Connect to a registered model in Domino Model Monitoring"
   ]
  },
  {
   "cell_type": "code",
   "execution_count": 2,
   "id": "28d51978-6a3c-4c3f-be9a-ef4bb498cf49",
   "metadata": {
    "tags": []
   },
   "outputs": [
    {
     "name": "stdout",
     "output_type": "stream",
     "text": [
      "Project name: dave_heinicke/AI-Fairness-360\n"
     ]
    }
   ],
   "source": [
    "import domino\n",
    "\n",
    "project = \"{}/{}\".format(os.environ['DOMINO_PROJECT_OWNER'],\n",
    "                         os.environ['DOMINO_PROJECT_NAME'])\n",
    "\n",
    "print(\"Project name: {}\".format(project))\n",
    "\n",
    "# Registered model for monitoring \n",
    "dmm_model_id = \"644ffac7a9872366aac7065d\"\n",
    "\n",
    "# Initiate custom metric client\n",
    "d = domino.Domino(project)\n",
    "metrics_client = d.custom_metrics_client()"
   ]
  },
  {
   "cell_type": "markdown",
   "id": "a9cd8504-cb98-4585-b63a-0c8f0aff2eea",
   "metadata": {},
   "source": [
    "### Example: Sample dataset from AIF360 to use for bias detection"
   ]
  },
  {
   "cell_type": "code",
   "execution_count": 3,
   "id": "1eb4c77f-f847-4484-ab1e-af8386bbc80d",
   "metadata": {
    "tags": []
   },
   "outputs": [],
   "source": [
    "# Load dataset from AIF360\n",
    "dataset_orig = GermanDataset(\n",
    "    protected_attribute_names=['age'],           # this dataset also contains protected\n",
    "                                                 # attribute for \"sex\" which we do not\n",
    "                                                 # consider in this evaluation\n",
    "    privileged_classes=[lambda x: x >= 25],      # age >=25 is considered privileged\n",
    "    features_to_drop=['personal_status', 'sex'] # ignore sex-related attributes\n",
    ")\n",
    "\n",
    "\n",
    "dataset_orig_train, dataset_orig_test = dataset_orig.split([0.7], shuffle=True)\n",
    "\n",
    "# Define privileged groups\n",
    "privileged_groups = [{'age': 1}]\n",
    "unprivileged_groups = [{'age': 0}]"
   ]
  },
  {
   "cell_type": "markdown",
   "id": "b138c7de-7107-4018-b0c9-aeaeb36c620a",
   "metadata": {},
   "source": [
    "#### Calculate Mean Difference in outcomes on the original dataset"
   ]
  },
  {
   "cell_type": "code",
   "execution_count": 4,
   "id": "1b00a04a-5627-4fd5-ab94-7a093be3238a",
   "metadata": {
    "tags": []
   },
   "outputs": [
    {
     "name": "stdout",
     "output_type": "stream",
     "text": [
      "Difference in mean outcomes between unprivileged and privileged groups = -0.169905\n"
     ]
    }
   ],
   "source": [
    "metric_orig_train = BinaryLabelDatasetMetric(dataset_orig_train, \n",
    "                                             unprivileged_groups=unprivileged_groups,\n",
    "                                             privileged_groups=privileged_groups)\n",
    "\n",
    "print(\"Difference in mean outcomes between unprivileged and privileged groups = %f\" % metric_orig_train.mean_difference())\n",
    "\n",
    "original_mean_difference = abs(metric_orig_train.mean_difference())"
   ]
  },
  {
   "cell_type": "markdown",
   "id": "32412124-e440-45a4-a350-e62670f1f41c",
   "metadata": {
    "tags": []
   },
   "source": [
    "#### Reweight the dataset to simulate training bias"
   ]
  },
  {
   "cell_type": "code",
   "execution_count": 5,
   "id": "af596b02-c687-459b-8953-991eef12a4e7",
   "metadata": {
    "tags": []
   },
   "outputs": [
    {
     "name": "stdout",
     "output_type": "stream",
     "text": [
      "Difference in mean outcomes between unprivileged and privileged groups = 0.000000\n"
     ]
    }
   ],
   "source": [
    "RW = Reweighing(unprivileged_groups=unprivileged_groups,\n",
    "                privileged_groups=privileged_groups)\n",
    "dataset_transf_train = RW.fit_transform(dataset_orig_train)\n",
    "\n",
    "metric_transf_train = BinaryLabelDatasetMetric(dataset_transf_train, \n",
    "                                               unprivileged_groups=unprivileged_groups,\n",
    "                                               privileged_groups=privileged_groups)\n",
    "print(\"Difference in mean outcomes between unprivileged and privileged groups = %f\" % metric_transf_train.mean_difference())\n",
    "\n",
    "corrected_mean_difference = abs(metric_orig_train.mean_difference())"
   ]
  },
  {
   "cell_type": "markdown",
   "id": "df3807d2-e566-4abe-acc0-2fc689fcfe4d",
   "metadata": {
    "tags": []
   },
   "source": [
    "### Log as a Domino Model Monitoring Custom metric\n",
    "\n",
    "Using Domino's Custom Metric Client, log the difference in means in the sample training data"
   ]
  },
  {
   "cell_type": "code",
   "execution_count": 6,
   "id": "9ebf874a-7156-460c-bde4-244ec9f8e420",
   "metadata": {
    "tags": []
   },
   "outputs": [],
   "source": [
    "metrics_client.log_metrics([\n",
    "    { \"modelMonitoringId\" : dmm_model_id, \"metric\" : \"Age_Mean_Difference\", \"value\" : corrected_mean_difference,\n",
    "    \"timestamp\" : \"2023-05-08T00:00:00Z\",\n",
    "    \"tags\" : { \"example_tag1\" : \"value1\", \"example_tag2\" : \"value2\" }\n",
    "    },\n",
    "    { \"modelMonitoringId\" : dmm_model_id, \"metric\" : \"Age_Mean_Difference\", \"value\" : original_mean_difference,\n",
    "    \"timestamp\" : \"2023-05-08T00:00:10Z\" }\n",
    "    ])\n"
   ]
  },
  {
   "cell_type": "markdown",
   "id": "c4d5e465-7d24-46f6-bd8b-5909ae2a8634",
   "metadata": {},
   "source": [
    "#### Set the custom trigger alert for model monitoring\n",
    "\n",
    "Tell metrics clinet where to set the alert threshold to log the difference in means in the sample training data\n",
    "\n",
    "Include a note that will be sent when this alert threshold is exceeded"
   ]
  },
  {
   "cell_type": "code",
   "execution_count": 7,
   "id": "20a95b1a-1fa9-41b7-af23-039839c0b194",
   "metadata": {
    "tags": []
   },
   "outputs": [],
   "source": [
    "metrics_client.trigger_alert(dmm_model_id, \"Age_Mean_Difference\", 3.14,\n",
    "                            condition = metrics_client.GREATER_THAN,\n",
    "                            lower_limit=0.1, \n",
    "                            upper_limit=999,\n",
    "                            description = \"AIF 360 has detected Age Difference Factor Greater than 0.1\" )"
   ]
  },
  {
   "cell_type": "markdown",
   "id": "c39e332f-78eb-4440-a83f-6abe1c9f9057",
   "metadata": {
    "tags": []
   },
   "source": [
    "#### To verify the metric was logged, print a history of past metrics logged in Domino Model Monitoring"
   ]
  },
  {
   "cell_type": "code",
   "execution_count": 13,
   "id": "7ef59b42-41fd-4dab-9348-d8b18e2f6dc3",
   "metadata": {
    "tags": []
   },
   "outputs": [
    {
     "data": {
      "text/html": [
       "<div>\n",
       "<style scoped>\n",
       "    .dataframe tbody tr th:only-of-type {\n",
       "        vertical-align: middle;\n",
       "    }\n",
       "\n",
       "    .dataframe tbody tr th {\n",
       "        vertical-align: top;\n",
       "    }\n",
       "\n",
       "    .dataframe thead th {\n",
       "        text-align: right;\n",
       "    }\n",
       "</style>\n",
       "<table border=\"1\" class=\"dataframe\">\n",
       "  <thead>\n",
       "    <tr style=\"text-align: right;\">\n",
       "      <th></th>\n",
       "      <th>timestamp</th>\n",
       "      <th>value</th>\n",
       "      <th>tags</th>\n",
       "    </tr>\n",
       "  </thead>\n",
       "  <tbody>\n",
       "    <tr>\n",
       "      <th>0</th>\n",
       "      <td>2023-05-08T00:00:00Z</td>\n",
       "      <td>-0.169905</td>\n",
       "      <td>{'example_tag1': 'value1', 'example_tag2': 'va...</td>\n",
       "    </tr>\n",
       "    <tr>\n",
       "      <th>1</th>\n",
       "      <td>2023-05-08T00:00:00Z</td>\n",
       "      <td>0.169905</td>\n",
       "      <td>{'example_tag1': 'value1', 'example_tag2': 'va...</td>\n",
       "    </tr>\n",
       "    <tr>\n",
       "      <th>2</th>\n",
       "      <td>2023-05-08T00:00:00Z</td>\n",
       "      <td>0.169905</td>\n",
       "      <td>{'example_tag1': 'value1', 'example_tag2': 'va...</td>\n",
       "    </tr>\n",
       "    <tr>\n",
       "      <th>3</th>\n",
       "      <td>2023-05-08T00:00:00Z</td>\n",
       "      <td>0.169905</td>\n",
       "      <td>{'example_tag1': 'value1', 'example_tag2': 'va...</td>\n",
       "    </tr>\n",
       "    <tr>\n",
       "      <th>4</th>\n",
       "      <td>2023-05-08T00:00:00Z</td>\n",
       "      <td>0.169905</td>\n",
       "      <td>{'example_tag1': 'value1', 'example_tag2': 'va...</td>\n",
       "    </tr>\n",
       "  </tbody>\n",
       "</table>\n",
       "</div>"
      ],
      "text/plain": [
       "              timestamp     value  \\\n",
       "0  2023-05-08T00:00:00Z -0.169905   \n",
       "1  2023-05-08T00:00:00Z  0.169905   \n",
       "2  2023-05-08T00:00:00Z  0.169905   \n",
       "3  2023-05-08T00:00:00Z  0.169905   \n",
       "4  2023-05-08T00:00:00Z  0.169905   \n",
       "\n",
       "                                                tags  \n",
       "0  {'example_tag1': 'value1', 'example_tag2': 'va...  \n",
       "1  {'example_tag1': 'value1', 'example_tag2': 'va...  \n",
       "2  {'example_tag1': 'value1', 'example_tag2': 'va...  \n",
       "3  {'example_tag1': 'value1', 'example_tag2': 'va...  \n",
       "4  {'example_tag1': 'value1', 'example_tag2': 'va...  "
      ]
     },
     "execution_count": 13,
     "metadata": {},
     "output_type": "execute_result"
    }
   ],
   "source": [
    "res = metrics_client.read_metrics(dmm_model_id, \"Age_Mean_Difference\",\n",
    "\"2023-05-08T00:00:00Z\", \"2023-05-08T00:00:10Z\")\n",
    "\n",
    "res_df = pd.DataFrame.from_dict(res['metricValues'])\n",
    "\n",
    "res_df.head()\n",
    "\n",
    "# res['metricValues']"
   ]
  },
  {
   "cell_type": "code",
   "execution_count": null,
   "id": "bb02a543-50ff-463c-94a6-dc9641ea28df",
   "metadata": {},
   "outputs": [],
   "source": []
  }
 ],
 "metadata": {
  "kernelspec": {
   "display_name": "Python 3 (ipykernel)",
   "language": "python",
   "name": "python3"
  },
  "language_info": {
   "codemirror_mode": {
    "name": "ipython",
    "version": 3
   },
   "file_extension": ".py",
   "mimetype": "text/x-python",
   "name": "python",
   "nbconvert_exporter": "python",
   "pygments_lexer": "ipython3",
   "version": "3.9.16"
  }
 },
 "nbformat": 4,
 "nbformat_minor": 5
}
